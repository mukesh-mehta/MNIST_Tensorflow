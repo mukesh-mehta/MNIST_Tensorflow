{
 "cells": [
  {
   "cell_type": "code",
   "execution_count": 1,
   "metadata": {},
   "outputs": [
    {
     "name": "stdout",
     "output_type": "stream",
     "text": [
      "Extracting Mnist_data/train-images-idx3-ubyte.gz\n",
      "Extracting Mnist_data/train-labels-idx1-ubyte.gz\n",
      "Extracting Mnist_data/t10k-images-idx3-ubyte.gz\n",
      "Extracting Mnist_data/t10k-labels-idx1-ubyte.gz\n"
     ]
    }
   ],
   "source": [
    "import tensorflow as tf\n",
    "\n",
    "from tensorflow.examples.tutorials.mnist import input_data\n",
    "mnist = input_data.read_data_sets(\"Mnist_data/\", one_hot=True)"
   ]
  },
  {
   "cell_type": "code",
   "execution_count": 2,
   "metadata": {},
   "outputs": [],
   "source": [
    "#parameters\n",
    "learning_rate= 0.01\n",
    "training_epochs =25\n",
    "batch_size =100\n",
    "display_step =1\n",
    "\n",
    "#graph_input\n",
    "x = tf.placeholder(tf.float32,[None,784])\n",
    "y = tf.placeholder(tf.float32,[None,10])\n",
    "\n",
    "#model parameters\n",
    "w=tf.Variable(tf.zeros([784, 10]))\n",
    "b=tf.Variable(tf.zeros([10]))\n",
    "\n",
    "#construct model\n",
    "pred = tf.nn.softmax(tf.matmul(x,w)+b) #Softmax\n",
    "\n",
    "#Minimize error\n",
    "cost=tf.reduce_mean(-tf.reduce_sum(y*tf.log(pred), reduction_indices=1))\n",
    "\n",
    "#Gradient descent\n",
    "optimizer = tf.train.GradientDescentOptimizer(learning_rate).minimize(cost)\n",
    "\n",
    "#Initializing the variables\n",
    "init = tf.global_variables_initializer()"
   ]
  },
  {
   "cell_type": "code",
   "execution_count": 3,
   "metadata": {},
   "outputs": [
    {
     "name": "stdout",
     "output_type": "stream",
     "text": [
      "Epoch: 0001 cost= 1.182138977\n",
      "Epoch: 0002 cost= 0.664730464\n",
      "Epoch: 0003 cost= 0.552548320\n",
      "Epoch: 0004 cost= 0.498566150\n",
      "Epoch: 0005 cost= 0.465430714\n",
      "Epoch: 0006 cost= 0.442541851\n",
      "Epoch: 0007 cost= 0.425509442\n",
      "Epoch: 0008 cost= 0.412148543\n",
      "Epoch: 0009 cost= 0.401306501\n",
      "Epoch: 0010 cost= 0.392336776\n",
      "Epoch: 0011 cost= 0.384770528\n",
      "Epoch: 0012 cost= 0.378131865\n",
      "Epoch: 0013 cost= 0.372419888\n",
      "Epoch: 0014 cost= 0.367290802\n",
      "Epoch: 0015 cost= 0.362745395\n",
      "Epoch: 0016 cost= 0.358623713\n",
      "Epoch: 0017 cost= 0.354827221\n",
      "Epoch: 0018 cost= 0.351430495\n",
      "Epoch: 0019 cost= 0.348317606\n",
      "Epoch: 0020 cost= 0.345441839\n",
      "Epoch: 0021 cost= 0.342752938\n",
      "Epoch: 0022 cost= 0.340286684\n",
      "Epoch: 0023 cost= 0.337939666\n",
      "Epoch: 0024 cost= 0.335755581\n",
      "Epoch: 0025 cost= 0.333676586\n",
      "Optimization Finished!\n",
      "Accuracy: 0.889\n"
     ]
    }
   ],
   "source": [
    "#Launch Graph\n",
    "with tf.Session() as sess:\n",
    "    sess.run(init)\n",
    "    #training\n",
    "    for epoch in range(training_epochs):\n",
    "        avg_cost =0\n",
    "        total_batch = int(mnist.train.num_examples/batch_size)\n",
    "        for i in range(total_batch):\n",
    "            batch_xs, batch_ys = mnist.train.next_batch(batch_size) \n",
    "            _,c = sess.run([optimizer,cost], feed_dict ={x: batch_xs,\n",
    "                                                    y:batch_ys})\n",
    "        \n",
    "            avg_cost +=c/total_batch\n",
    "        \n",
    "        if (epoch+1) %display_step==0:\n",
    "            print(\"Epoch: \"'%04d'% (epoch+1), \"cost=\", \"{:.9f}\".format(avg_cost))\n",
    "    \n",
    "    print (\"Optimization Finished!\")\n",
    "\n",
    "    # Test model\n",
    "    correct_prediction = tf.equal(tf.argmax(pred, 1), tf.argmax(y, 1))\n",
    "    # Calculate accuracy for 3000 examples\n",
    "    accuracy = tf.reduce_mean(tf.cast(correct_prediction, tf.float32))\n",
    "    print (\"Accuracy:\", accuracy.eval({x: mnist.test.images[:3000], y: mnist.test.labels[:3000]}))\n"
   ]
  },
  {
   "cell_type": "code",
   "execution_count": null,
   "metadata": {
    "collapsed": true
   },
   "outputs": [],
   "source": []
  },
  {
   "cell_type": "code",
   "execution_count": null,
   "metadata": {
    "collapsed": true
   },
   "outputs": [],
   "source": []
  }
 ],
 "metadata": {
  "kernelspec": {
   "display_name": "Python 3",
   "language": "python",
   "name": "python3"
  },
  "language_info": {
   "codemirror_mode": {
    "name": "ipython",
    "version": 3
   },
   "file_extension": ".py",
   "mimetype": "text/x-python",
   "name": "python",
   "nbconvert_exporter": "python",
   "pygments_lexer": "ipython3",
   "version": "3.6.1"
  }
 },
 "nbformat": 4,
 "nbformat_minor": 2
}
